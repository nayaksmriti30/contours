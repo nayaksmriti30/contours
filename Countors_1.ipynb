{
 "cells": [
  {
   "cell_type": "code",
   "execution_count": 1,
   "metadata": {},
   "outputs": [
    {
     "name": "stdout",
     "output_type": "stream",
     "text": [
      "[[129 185]]\n",
      "(31,)\n",
      "129 _ 185\n"
     ]
    }
   ],
   "source": [
    "import numpy as np\n",
    "import cv2\n",
    "import pyautogui as gui\n",
    "image = cv2.imread('d1.png')\n",
    "#image = cv2.resize(image, (256,256))\n",
    "blurred = cv2.pyrMeanShiftFiltering(image,31,91)\n",
    "gray = cv2.cvtColor(blurred,cv2.COLOR_BGR2GRAY)\n",
    "ret , threshold = cv2.threshold(gray,0,255,cv2.THRESH_BINARY+cv2.THRESH_OTSU)\n",
    "\n",
    "_ ,contours,_ = cv2.findContours(threshold,cv2.RETR_LIST,cv2.CHAIN_APPROX_TC89_KCOS)\n",
    "\n",
    "# print(len(contours))\n",
    "# print(contours)\n",
    "#cv2.drawContours(image,contours,-1,(0,255,255),6)\n",
    "   \n",
    "#cntx1 = contours[i][i]\n",
    "#cntx = contours[0][1\n",
    "#gui.dragTo(cntx1)#gui.dragTo(cntx1)\n",
    "\n",
    "#print(cntx)\n",
    "#print(cntx1)\n",
    "#cnt = contours[1]\n",
    "\n",
    "cnt = np.array(contours)\n",
    "print((contours[0][0]))\n",
    "print(cnt.shape)\n",
    "xy = str(contours[0][0][0]).replace('[','').replace(']','').split()\n",
    "print(xy[0]+' _ '+xy[1])\n",
    "import time\n",
    "time.sleep(5)\n",
    "for i in contours:\n",
    "    gui.moveTo(int(xy[0])+150,int(xy[1])+100)\n",
    "    for j in i:\n",
    "        xy = str(j).replace('[','').replace(']','').split()\n",
    "       \n",
    "        gui.dragTo(int(xy[0])+150,int(xy[1])+100)\n",
    "        \n",
    "        if cv2.waitKey(1) & 0xFF == ord('q'):\n",
    "            break\n",
    "#print(type(contours))\n",
    "#print(type(cnt))\n",
    "#for i in range(0,5):\n",
    "    #cnt = contours[i]\n",
    "    #print(cnt[0],cnt[1])\n",
    "    #gui.dragTo(cnt[0][1],cnt[1][1])\n",
    "#img = cv2.drawContours(image, contours, -1, (0,255,0), 3)\n",
    "# #img1 = cv2.imshow(\"img1\",cnt)\n",
    "# cv2.namedWindow('Display',cv2.WINDOW_NORMAL)\n",
    "#cv2.imshow('Display',img)\n",
    "# cv2.waitKey()"
   ]
  },
  {
   "cell_type": "code",
   "execution_count": null,
   "metadata": {},
   "outputs": [],
   "source": []
  },
  {
   "cell_type": "code",
   "execution_count": null,
   "metadata": {},
   "outputs": [],
   "source": []
  }
 ],
 "metadata": {
  "kernelspec": {
   "display_name": "Python 3",
   "language": "python",
   "name": "python3"
  },
  "language_info": {
   "codemirror_mode": {
    "name": "ipython",
    "version": 3
   },
   "file_extension": ".py",
   "mimetype": "text/x-python",
   "name": "python",
   "nbconvert_exporter": "python",
   "pygments_lexer": "ipython3",
   "version": "3.6.4"
  }
 },
 "nbformat": 4,
 "nbformat_minor": 2
}
